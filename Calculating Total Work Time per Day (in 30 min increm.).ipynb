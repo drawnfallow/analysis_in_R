{
 "cells": [
  {
   "cell_type": "code",
   "execution_count": 6,
   "metadata": {},
   "outputs": [
    {
     "name": "stderr",
     "output_type": "stream",
     "text": [
      "-- Attaching packages --------------------------------------- tidyverse 1.2.1 --\n",
      "v ggplot2 2.2.1     v purrr   0.2.4\n",
      "v tibble  1.4.1     v dplyr   0.7.4\n",
      "v tidyr   0.7.2     v stringr 1.2.0\n",
      "v readr   1.1.1     v forcats 0.2.0\n",
      "-- Conflicts ------------------------------------------ tidyverse_conflicts() --\n",
      "x dplyr::filter() masks stats::filter()\n",
      "x dplyr::lag()    masks stats::lag()\n"
     ]
    }
   ],
   "source": [
    "library(tidyverse)"
   ]
  },
  {
   "cell_type": "code",
   "execution_count": 34,
   "metadata": {},
   "outputs": [],
   "source": [
    "    users <- c(\"John\",\"Paul\", \"Luke\", \"Mary\", \"John\", \"Mary\", \n",
    "                \"Luke\", \"Paul\")\n",
    "    start_times <- c(\"2018-07-14 04:55:57\", \"2018-07-14 \n",
    "                         04:47:31\",\n",
    "                         \"2018-07-15 03:02:22\", \"2018-07-15 \n",
    "                          03:58:21\",\n",
    "                         \"2018-07-16 04:56:41\", \"2018-07-16 \n",
    "                          03:59:28\",\n",
    "                          \"2018-07-16 03:13:21\", \"2018-07-16 \n",
    "                          04:58:14\")\n",
    "\n",
    "     end_times <- c(\"2018-07-14 14:02:31\", \"2018-07-14 \n",
    "                       15:03:17\",\n",
    "                       \"2018-07-15 12:01:14\", \"2018-07-15 \n",
    "                        12:59:45\",\n",
    "                        \"2018-07-16 14:02:14\", \"2018-07-16 \n",
    "                         13:01:14\",\n",
    "                         \"2018-07-16 11:25:41\", \"2018-07-16 \n",
    "                         13:22:17\")\n",
    "\n",
    "df <- data.frame(users,start_times,end_times)"
   ]
  },
  {
   "cell_type": "code",
   "execution_count": 35,
   "metadata": {},
   "outputs": [
    {
     "data": {
      "text/html": [
       "<table>\n",
       "<thead><tr><th scope=col>users</th><th scope=col>start_times</th><th scope=col>end_times</th></tr></thead>\n",
       "<tbody>\n",
       "\t<tr><td>John                                           </td><td>2018-07-14 04:55:57                            </td><td>2018-07-14 14:02:31                            </td></tr>\n",
       "\t<tr><td>Paul                                           </td><td>2018-07-14 \n",
       "                         04:47:31 </td><td>2018-07-14 \n",
       "                       15:03:17   </td></tr>\n",
       "\t<tr><td>Luke                                           </td><td>2018-07-15 03:02:22                            </td><td>2018-07-15 12:01:14                            </td></tr>\n",
       "\t<tr><td>Mary                                           </td><td>2018-07-15 \n",
       "                          03:58:21</td><td>2018-07-15 \n",
       "                        12:59:45  </td></tr>\n",
       "\t<tr><td>John                                           </td><td>2018-07-16 04:56:41                            </td><td>2018-07-16 14:02:14                            </td></tr>\n",
       "\t<tr><td>Mary                                           </td><td>2018-07-16 \n",
       "                          03:59:28</td><td>2018-07-16 \n",
       "                         13:01:14 </td></tr>\n",
       "\t<tr><td>Luke                                           </td><td>2018-07-16 03:13:21                            </td><td>2018-07-16 11:25:41                            </td></tr>\n",
       "\t<tr><td>Paul                                           </td><td>2018-07-16 \n",
       "                          04:58:14</td><td>2018-07-16 \n",
       "                         13:22:17 </td></tr>\n",
       "</tbody>\n",
       "</table>\n"
      ],
      "text/latex": [
       "\\begin{tabular}{r|lll}\n",
       " users & start\\_times & end\\_times\\\\\n",
       "\\hline\n",
       "\t John                                            & 2018-07-14 04:55:57                             & 2018-07-14 14:02:31                            \\\\\n",
       "\t Paul                                            & 2018-07-14 \n",
       "                         04:47:31  & 2018-07-14 \n",
       "                       15:03:17   \\\\\n",
       "\t Luke                                            & 2018-07-15 03:02:22                             & 2018-07-15 12:01:14                            \\\\\n",
       "\t Mary                                            & 2018-07-15 \n",
       "                          03:58:21 & 2018-07-15 \n",
       "                        12:59:45  \\\\\n",
       "\t John                                            & 2018-07-16 04:56:41                             & 2018-07-16 14:02:14                            \\\\\n",
       "\t Mary                                            & 2018-07-16 \n",
       "                          03:59:28 & 2018-07-16 \n",
       "                         13:01:14 \\\\\n",
       "\t Luke                                            & 2018-07-16 03:13:21                             & 2018-07-16 11:25:41                            \\\\\n",
       "\t Paul                                            & 2018-07-16 \n",
       "                          04:58:14 & 2018-07-16 \n",
       "                         13:22:17 \\\\\n",
       "\\end{tabular}\n"
      ],
      "text/markdown": [
       "\n",
       "users | start_times | end_times | \n",
       "|---|---|---|---|---|---|---|---|\n",
       "| John                                            | 2018-07-14 04:55:57                             | 2018-07-14 14:02:31                             | \n",
       "| Paul                                            | 2018-07-14 \n",
       "                         04:47:31  | 2018-07-14 \n",
       "                       15:03:17    | \n",
       "| Luke                                            | 2018-07-15 03:02:22                             | 2018-07-15 12:01:14                             | \n",
       "| Mary                                            | 2018-07-15 \n",
       "                          03:58:21 | 2018-07-15 \n",
       "                        12:59:45   | \n",
       "| John                                            | 2018-07-16 04:56:41                             | 2018-07-16 14:02:14                             | \n",
       "| Mary                                            | 2018-07-16 \n",
       "                          03:59:28 | 2018-07-16 \n",
       "                         13:01:14  | \n",
       "| Luke                                            | 2018-07-16 03:13:21                             | 2018-07-16 11:25:41                             | \n",
       "| Paul                                            | 2018-07-16 \n",
       "                          04:58:14 | 2018-07-16 \n",
       "                         13:22:17  | \n",
       "\n",
       "\n"
      ],
      "text/plain": [
       "  users start_times                                    \n",
       "1 John  2018-07-14 04:55:57                            \n",
       "2 Paul  2018-07-14 \\n                         04:47:31 \n",
       "3 Luke  2018-07-15 03:02:22                            \n",
       "4 Mary  2018-07-15 \\n                          03:58:21\n",
       "5 John  2018-07-16 04:56:41                            \n",
       "6 Mary  2018-07-16 \\n                          03:59:28\n",
       "7 Luke  2018-07-16 03:13:21                            \n",
       "8 Paul  2018-07-16 \\n                          04:58:14\n",
       "  end_times                                     \n",
       "1 2018-07-14 14:02:31                           \n",
       "2 2018-07-14 \\n                       15:03:17  \n",
       "3 2018-07-15 12:01:14                           \n",
       "4 2018-07-15 \\n                        12:59:45 \n",
       "5 2018-07-16 14:02:14                           \n",
       "6 2018-07-16 \\n                         13:01:14\n",
       "7 2018-07-16 11:25:41                           \n",
       "8 2018-07-16 \\n                         13:22:17"
      ]
     },
     "metadata": {},
     "output_type": "display_data"
    }
   ],
   "source": [
    "df"
   ]
  },
  {
   "cell_type": "code",
   "execution_count": 36,
   "metadata": {},
   "outputs": [],
   "source": [
    "df$start_times <- as.POSIXct(df$start_times, format = \"%Y-%m-%d %H:%M:%S\")"
   ]
  },
  {
   "cell_type": "code",
   "execution_count": 37,
   "metadata": {},
   "outputs": [],
   "source": [
    "df$end_times <- as.POSIXct(df$end_times, format = \"%Y-%m-%d %H:%M:%S\")"
   ]
  },
  {
   "cell_type": "code",
   "execution_count": 38,
   "metadata": {},
   "outputs": [],
   "source": [
    "df$diff_time <- difftime(df$end_times, df$start_times, units = 'mins')"
   ]
  },
  {
   "cell_type": "code",
   "execution_count": 39,
   "metadata": {},
   "outputs": [],
   "source": [
    "df$date_start <- as.Date(df$start_times)"
   ]
  },
  {
   "cell_type": "code",
   "execution_count": 40,
   "metadata": {
    "scrolled": false
   },
   "outputs": [
    {
     "name": "stdout",
     "output_type": "stream",
     "text": [
      "Observations: 8\n",
      "Variables: 5\n",
      "$ users       <fctr> John, Paul, Luke, Mary, John, Mary, Luke, Paul\n",
      "$ start_times <dttm> 2018-07-14 04:55:57, 2018-07-14 04:47:31, 2018-07-15 0...\n",
      "$ end_times   <dttm> 2018-07-14 14:02:31, 2018-07-14 15:03:17, 2018-07-15 1...\n",
      "$ diff_time   <time> 546.5667 mins, 615.7667 mins, 538.8667 mins, 541.4000 ...\n",
      "$ date_start  <date> 2018-07-14, 2018-07-14, 2018-07-15, 2018-07-15, 2018-0...\n"
     ]
    }
   ],
   "source": [
    "glimpse(df)"
   ]
  },
  {
   "cell_type": "code",
   "execution_count": 41,
   "metadata": {
    "scrolled": true
   },
   "outputs": [
    {
     "data": {
      "text/plain": [
       "Time differences in mins\n",
       "[1] 546.5667 615.7667 538.8667 541.4000 545.5500 541.7667 492.3333 504.0500"
      ]
     },
     "metadata": {},
     "output_type": "display_data"
    }
   ],
   "source": [
    "df$diff_time"
   ]
  },
  {
   "cell_type": "code",
   "execution_count": 42,
   "metadata": {},
   "outputs": [
    {
     "data": {
      "text/html": [
       "<table>\n",
       "<thead><tr><th scope=col>users</th><th scope=col>start_times</th><th scope=col>end_times</th><th scope=col>diff_time</th><th scope=col>date_start</th></tr></thead>\n",
       "<tbody>\n",
       "\t<tr><td>John               </td><td>2018-07-14 04:55:57</td><td>2018-07-14 14:02:31</td><td>546.5667 mins      </td><td>2018-07-14         </td></tr>\n",
       "\t<tr><td>Paul               </td><td>2018-07-14 04:47:31</td><td>2018-07-14 15:03:17</td><td>615.7667 mins      </td><td>2018-07-14         </td></tr>\n",
       "\t<tr><td>Luke               </td><td>2018-07-15 03:02:22</td><td>2018-07-15 12:01:14</td><td>538.8667 mins      </td><td>2018-07-15         </td></tr>\n",
       "\t<tr><td>Mary               </td><td>2018-07-15 03:58:21</td><td>2018-07-15 12:59:45</td><td>541.4000 mins      </td><td>2018-07-15         </td></tr>\n",
       "\t<tr><td>John               </td><td>2018-07-16 04:56:41</td><td>2018-07-16 14:02:14</td><td>545.5500 mins      </td><td>2018-07-16         </td></tr>\n",
       "\t<tr><td>Mary               </td><td>2018-07-16 03:59:28</td><td>2018-07-16 13:01:14</td><td>541.7667 mins      </td><td>2018-07-16         </td></tr>\n",
       "\t<tr><td>Luke               </td><td>2018-07-16 03:13:21</td><td>2018-07-16 11:25:41</td><td>492.3333 mins      </td><td>2018-07-16         </td></tr>\n",
       "\t<tr><td>Paul               </td><td>2018-07-16 04:58:14</td><td>2018-07-16 13:22:17</td><td>504.0500 mins      </td><td>2018-07-16         </td></tr>\n",
       "</tbody>\n",
       "</table>\n"
      ],
      "text/latex": [
       "\\begin{tabular}{r|lllll}\n",
       " users & start\\_times & end\\_times & diff\\_time & date\\_start\\\\\n",
       "\\hline\n",
       "\t John                & 2018-07-14 04:55:57 & 2018-07-14 14:02:31 & 546.5667 mins       & 2018-07-14         \\\\\n",
       "\t Paul                & 2018-07-14 04:47:31 & 2018-07-14 15:03:17 & 615.7667 mins       & 2018-07-14         \\\\\n",
       "\t Luke                & 2018-07-15 03:02:22 & 2018-07-15 12:01:14 & 538.8667 mins       & 2018-07-15         \\\\\n",
       "\t Mary                & 2018-07-15 03:58:21 & 2018-07-15 12:59:45 & 541.4000 mins       & 2018-07-15         \\\\\n",
       "\t John                & 2018-07-16 04:56:41 & 2018-07-16 14:02:14 & 545.5500 mins       & 2018-07-16         \\\\\n",
       "\t Mary                & 2018-07-16 03:59:28 & 2018-07-16 13:01:14 & 541.7667 mins       & 2018-07-16         \\\\\n",
       "\t Luke                & 2018-07-16 03:13:21 & 2018-07-16 11:25:41 & 492.3333 mins       & 2018-07-16         \\\\\n",
       "\t Paul                & 2018-07-16 04:58:14 & 2018-07-16 13:22:17 & 504.0500 mins       & 2018-07-16         \\\\\n",
       "\\end{tabular}\n"
      ],
      "text/markdown": [
       "\n",
       "users | start_times | end_times | diff_time | date_start | \n",
       "|---|---|---|---|---|---|---|---|\n",
       "| John                | 2018-07-14 04:55:57 | 2018-07-14 14:02:31 | 546.5667 mins       | 2018-07-14          | \n",
       "| Paul                | 2018-07-14 04:47:31 | 2018-07-14 15:03:17 | 615.7667 mins       | 2018-07-14          | \n",
       "| Luke                | 2018-07-15 03:02:22 | 2018-07-15 12:01:14 | 538.8667 mins       | 2018-07-15          | \n",
       "| Mary                | 2018-07-15 03:58:21 | 2018-07-15 12:59:45 | 541.4000 mins       | 2018-07-15          | \n",
       "| John                | 2018-07-16 04:56:41 | 2018-07-16 14:02:14 | 545.5500 mins       | 2018-07-16          | \n",
       "| Mary                | 2018-07-16 03:59:28 | 2018-07-16 13:01:14 | 541.7667 mins       | 2018-07-16          | \n",
       "| Luke                | 2018-07-16 03:13:21 | 2018-07-16 11:25:41 | 492.3333 mins       | 2018-07-16          | \n",
       "| Paul                | 2018-07-16 04:58:14 | 2018-07-16 13:22:17 | 504.0500 mins       | 2018-07-16          | \n",
       "\n",
       "\n"
      ],
      "text/plain": [
       "  users start_times         end_times           diff_time     date_start\n",
       "1 John  2018-07-14 04:55:57 2018-07-14 14:02:31 546.5667 mins 2018-07-14\n",
       "2 Paul  2018-07-14 04:47:31 2018-07-14 15:03:17 615.7667 mins 2018-07-14\n",
       "3 Luke  2018-07-15 03:02:22 2018-07-15 12:01:14 538.8667 mins 2018-07-15\n",
       "4 Mary  2018-07-15 03:58:21 2018-07-15 12:59:45 541.4000 mins 2018-07-15\n",
       "5 John  2018-07-16 04:56:41 2018-07-16 14:02:14 545.5500 mins 2018-07-16\n",
       "6 Mary  2018-07-16 03:59:28 2018-07-16 13:01:14 541.7667 mins 2018-07-16\n",
       "7 Luke  2018-07-16 03:13:21 2018-07-16 11:25:41 492.3333 mins 2018-07-16\n",
       "8 Paul  2018-07-16 04:58:14 2018-07-16 13:22:17 504.0500 mins 2018-07-16"
      ]
     },
     "metadata": {},
     "output_type": "display_data"
    }
   ],
   "source": [
    "df"
   ]
  },
  {
   "cell_type": "code",
   "execution_count": 52,
   "metadata": {},
   "outputs": [
    {
     "data": {
      "text/html": [
       "<table>\n",
       "<thead><tr><th scope=col>date_start</th><th scope=col>tot_time_wrked_30_min</th></tr></thead>\n",
       "<tbody>\n",
       "\t<tr><td>2018-07-14</td><td>39        </td></tr>\n",
       "\t<tr><td>2018-07-15</td><td>36        </td></tr>\n",
       "\t<tr><td>2018-07-16</td><td>69        </td></tr>\n",
       "</tbody>\n",
       "</table>\n"
      ],
      "text/latex": [
       "\\begin{tabular}{r|ll}\n",
       " date\\_start & tot\\_time\\_wrked\\_30\\_min\\\\\n",
       "\\hline\n",
       "\t 2018-07-14 & 39        \\\\\n",
       "\t 2018-07-15 & 36        \\\\\n",
       "\t 2018-07-16 & 69        \\\\\n",
       "\\end{tabular}\n"
      ],
      "text/markdown": [
       "\n",
       "date_start | tot_time_wrked_30_min | \n",
       "|---|---|---|\n",
       "| 2018-07-14 | 39         | \n",
       "| 2018-07-15 | 36         | \n",
       "| 2018-07-16 | 69         | \n",
       "\n",
       "\n"
      ],
      "text/plain": [
       "  date_start tot_time_wrked_30_min\n",
       "1 2018-07-14 39                   \n",
       "2 2018-07-15 36                   \n",
       "3 2018-07-16 69                   "
      ]
     },
     "metadata": {},
     "output_type": "display_data"
    }
   ],
   "source": [
    "df %>%\n",
    "    group_by(date_start) %>%\n",
    "    summarize(tot_time_wrked_30_min = round(sum(as.integer(diff_time)) / 30, digits = 0))"
   ]
  },
  {
   "cell_type": "code",
   "execution_count": null,
   "metadata": {},
   "outputs": [],
   "source": []
  }
 ],
 "metadata": {
  "kernelspec": {
   "display_name": "R",
   "language": "R",
   "name": "ir"
  },
  "language_info": {
   "codemirror_mode": "r",
   "file_extension": ".r",
   "mimetype": "text/x-r-source",
   "name": "R",
   "pygments_lexer": "r",
   "version": "3.4.3"
  }
 },
 "nbformat": 4,
 "nbformat_minor": 2
}
