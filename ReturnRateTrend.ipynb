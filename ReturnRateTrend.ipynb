{
 "cells": [
  {
   "cell_type": "code",
   "execution_count": 96,
   "metadata": {},
   "outputs": [
    {
     "name": "stdout",
     "output_type": "stream",
     "text": [
      "package 'formattable' successfully unpacked and MD5 sums checked\n",
      "\n",
      "The downloaded binary packages are in\n",
      "\tC:\\Users\\Risin\\AppData\\Local\\Temp\\RtmpOYPDIr\\downloaded_packages\n"
     ]
    }
   ],
   "source": [
    "install.packages('formattable', repos='http://cran.us.r-project.org')"
   ]
  },
  {
   "cell_type": "code",
   "execution_count": 97,
   "metadata": {},
   "outputs": [
    {
     "name": "stderr",
     "output_type": "stream",
     "text": [
      "Warning message:\n",
      "\"package 'formattable' was built under R version 3.4.4\""
     ]
    }
   ],
   "source": [
    "library('tidyverse')\n",
    "library('formattable')"
   ]
  },
  {
   "cell_type": "code",
   "execution_count": 76,
   "metadata": {},
   "outputs": [],
   "source": [
    "casper <- read.csv(file=\"XLS_takehome_NA.csv\", header=TRUE, sep=\",\",stringsAsFactors=FALSE)"
   ]
  },
  {
   "cell_type": "code",
   "execution_count": 77,
   "metadata": {},
   "outputs": [
    {
     "name": "stdout",
     "output_type": "stream",
     "text": [
      "Observations: 213\n",
      "Variables: 4\n",
      "$ dateordered  <chr> \"12/31/2016\", \"12/31/2016\", \"12/30/2016\", \"12/29/2016\"...\n",
      "$ datereturned <chr> \"1/24/2017\", \"\", \"\", \"\", \"12/29/2016\", \"\", \"1/28/2017\"...\n",
      "$ orderstatus  <chr> \"returned\", \"complete\", \"complete\", \"complete\", \"retur...\n",
      "$ orders       <int> 1, 8, 14, 14, 1, 23, 1, 1, 1, 1, 13, 12, 8, 1, 1, 1, 4...\n"
     ]
    }
   ],
   "source": [
    "glimpse(casper)"
   ]
  },
  {
   "cell_type": "code",
   "execution_count": 78,
   "metadata": {},
   "outputs": [],
   "source": [
    "casper$dateordered <- as.Date(casper$dateordered, \"%m/%d/%Y\")\n",
    "casper$datereturned <- as.Date(casper$datereturned, \"%m/%d/%Y\")"
   ]
  },
  {
   "cell_type": "code",
   "execution_count": 79,
   "metadata": {
    "scrolled": false
   },
   "outputs": [],
   "source": [
    "casper$monthOrdered <- factor(format(casper$dateordered, \"%m\"), ordered = TRUE)"
   ]
  },
  {
   "cell_type": "code",
   "execution_count": 86,
   "metadata": {},
   "outputs": [
    {
     "name": "stdout",
     "output_type": "stream",
     "text": [
      "Observations: 213\n",
      "Variables: 5\n",
      "$ dateordered  <date> 2016-12-31, 2016-12-31, 2016-12-30, 2016-12-29, 2016-...\n",
      "$ datereturned <date> 2017-01-24, NA, NA, NA, 2016-12-29, NA, 2017-01-28, 2...\n",
      "$ orderstatus  <chr> \"returned\", \"complete\", \"complete\", \"complete\", \"retur...\n",
      "$ orders       <int> 1, 8, 14, 14, 1, 23, 1, 1, 1, 1, 13, 12, 8, 1, 1, 1, 4...\n",
      "$ monthOrdered <ord> 12, 12, 12, 12, 12, 12, 12, 12, 12, 12, 12, 12, 12, 12...\n"
     ]
    }
   ],
   "source": [
    "glimpse(casper)"
   ]
  },
  {
   "cell_type": "code",
   "execution_count": 88,
   "metadata": {},
   "outputs": [],
   "source": [
    "levels(casper$monthOrdered) <- c('Aug', 'Sep', 'Oct', 'Nov', 'Dec')"
   ]
  },
  {
   "cell_type": "code",
   "execution_count": 100,
   "metadata": {},
   "outputs": [],
   "source": [
    "casperTotal <- casper %>%\n",
    "    group_by(monthOrdered) %>%\n",
    "    summarise(totalOrders = sum(orders),\n",
    "              returnOrders = sum(orders[orderstatus == 'returned']),\n",
    "              completeOrders = sum(orders[orderstatus == 'complete']),\n",
    "              returnRate = percent(returnOrders / totalOrders, digits = 2))"
   ]
  },
  {
   "cell_type": "code",
   "execution_count": 101,
   "metadata": {},
   "outputs": [
    {
     "data": {
      "text/html": [
       "<table>\n",
       "<thead><tr><th scope=col>monthOrdered</th><th scope=col>totalOrders</th><th scope=col>returnOrders</th><th scope=col>completeOrders</th><th scope=col>returnRate</th></tr></thead>\n",
       "<tbody>\n",
       "\t<tr><td>Aug  </td><td>149  </td><td>10   </td><td>139  </td><td>6.71%</td></tr>\n",
       "\t<tr><td>Sep  </td><td>143  </td><td> 9   </td><td>134  </td><td>6.29%</td></tr>\n",
       "\t<tr><td>Oct  </td><td>180  </td><td>10   </td><td>170  </td><td>5.56%</td></tr>\n",
       "\t<tr><td>Nov  </td><td>226  </td><td>12   </td><td>214  </td><td>5.31%</td></tr>\n",
       "\t<tr><td>Dec  </td><td>395  </td><td>19   </td><td>376  </td><td>4.81%</td></tr>\n",
       "</tbody>\n",
       "</table>\n"
      ],
      "text/latex": [
       "\\begin{tabular}{r|lllll}\n",
       " monthOrdered & totalOrders & returnOrders & completeOrders & returnRate\\\\\n",
       "\\hline\n",
       "\t Aug     & 149     & 10      & 139     & 6.71\\%\\\\\n",
       "\t Sep     & 143     &  9      & 134     & 6.29\\%\\\\\n",
       "\t Oct     & 180     & 10      & 170     & 5.56\\%\\\\\n",
       "\t Nov     & 226     & 12      & 214     & 5.31\\%\\\\\n",
       "\t Dec     & 395     & 19      & 376     & 4.81\\%\\\\\n",
       "\\end{tabular}\n"
      ],
      "text/markdown": [
       "\n",
       "monthOrdered | totalOrders | returnOrders | completeOrders | returnRate | \n",
       "|---|---|---|---|---|\n",
       "| Aug   | 149   | 10    | 139   | 6.71% | \n",
       "| Sep   | 143   |  9    | 134   | 6.29% | \n",
       "| Oct   | 180   | 10    | 170   | 5.56% | \n",
       "| Nov   | 226   | 12    | 214   | 5.31% | \n",
       "| Dec   | 395   | 19    | 376   | 4.81% | \n",
       "\n",
       "\n"
      ],
      "text/plain": [
       "  monthOrdered totalOrders returnOrders completeOrders returnRate\n",
       "1 Aug          149         10           139            6.71%     \n",
       "2 Sep          143          9           134            6.29%     \n",
       "3 Oct          180         10           170            5.56%     \n",
       "4 Nov          226         12           214            5.31%     \n",
       "5 Dec          395         19           376            4.81%     "
      ]
     },
     "metadata": {},
     "output_type": "display_data"
    }
   ],
   "source": [
    "casperTotal"
   ]
  },
  {
   "cell_type": "code",
   "execution_count": 120,
   "metadata": {
    "scrolled": false
   },
   "outputs": [
    {
     "data": {},
     "metadata": {},
     "output_type": "display_data"
    },
    {
     "data": {
      "image/png": "[encoded data removed]",
      "text/plain": [
       "plot without title"
      ]
     },
     "metadata": {},
     "output_type": "display_data"
    }
   ],
   "source": [
    "ggplot(data = casperTotal, aes(x = monthOrdered, y = returnRate, group = 1)) +\n",
    "    geom_point() + geom_line() + geom_text(aes(label=returnRate),hjust=-.2, vjust=0) +\n",
    "    scale_y_continuous(labels=percent)"
   ]
  },
  {
   "cell_type": "markdown",
   "metadata": {},
   "source": [
    "Monthly return rate is trending down."
   ]
  }
 ],
 "metadata": {
  "kernelspec": {
   "display_name": "R",
   "language": "R",
   "name": "ir"
  },
  "language_info": {
   "codemirror_mode": "r",
   "file_extension": ".r",
   "mimetype": "text/x-r-source",
   "name": "R",
   "pygments_lexer": "r",
   "version": "3.4.3"
  }
 },
 "nbformat": 4,
 "nbformat_minor": 2
}
